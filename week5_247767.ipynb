{
 "cells": [
  {
   "cell_type": "markdown",
   "id": "0f1270ff-2cd5-4f80-962b-9b808e3943ea",
   "metadata": {},
   "source": [
    "1.   공튀기기 문제를 재귀함수로 구하시오 h=200, n=0.8 사용"
   ]
  },
  {
   "cell_type": "code",
   "execution_count": 1,
   "id": "13653f81-8ae1-4d5e-87cb-7c2e0456b00b",
   "metadata": {},
   "outputs": [
    {
     "name": "stdout",
     "output_type": "stream",
     "text": [
      "1800.0\n"
     ]
    }
   ],
   "source": [
    "import sys \n",
    "\n",
    "def bounce_ball(h,n,epsi=sys.float_info.epsilon, total=0):\n",
    "\n",
    "    if h < epsi: \n",
    "        return total\n",
    "    total += h if total == 0 else 2*h\n",
    "\n",
    "    return bounce_ball(h*n,n,epsi,total)\n",
    "    \n",
    "print(bounce_ball(200,0.8))"
   ]
  },
  {
   "cell_type": "markdown",
   "id": "e6253c7f-0aa9-43f9-bd64-d52f7cdfb8d2",
   "metadata": {},
   "source": [
    "2.   두 장수 객체를 만들어보시오\r\n",
    "* 속성으로는 \"전투력\"과 \"용맹함\", \"지력\", \"체력\"이 있음\r\n",
    "* 장수1은 각각 93, 71, 29, 100\r\n",
    "* 장수2는 84, 80, 75, 100 항,"
   ]
  },
  {
   "cell_type": "code",
   "execution_count": 2,
   "id": "75e7dd1a-7ea4-4d55-bbfa-68b0a11f52bd",
   "metadata": {},
   "outputs": [],
   "source": [
    "class Warrior:\n",
    "    def __init__(self,power,bravery,Intellect,hp):\n",
    "        self.power = power\n",
    "        self.bravery = bravery\n",
    "        self.Intellect=Intellect\n",
    "        self.hp = hp\n",
    "    def __str__(self):\n",
    "        return f\"전투력 {self.power}, 용맹함 {self.bravery}, 지력 {self.Intellect}, 체력{self.hp} \"\n",
    "\n",
    "a= Warrior(93,71,29,100)\n",
    "b= Warrior(84,80,75,100)"
   ]
  },
  {
   "cell_type": "markdown",
   "id": "45d0158a-4f65-4901-9d5d-ae4906d16592",
   "metadata": {},
   "source": [
    "3. 함수 객체를 생성하고 두 장수를 전투시키시오\r\n",
    "* 데미지 함수 속성을 만들어 파라메터는 상대 장수의 전투력, 용맹함, 지력을 받음\r\n",
    "* random.random()함수를 활용하여 (0~1 사이의 무작위 수 생성) 총 데미지는 다음의 수식을 따름\r\n",
    "* 총 데미지 = 0.4 * 전투력 * 무작위값 + 0.3 * 용맹함 * 무작위값 + 0.3 * 지력 * 무작위값\r\n",
    "* 이 데미지만큼 각 장수는 체력이 상실됨\r\n",
    "* 체력이 0이 되면 전투가 종료되고 먼저 체력이 0에 도달한 장수가 패배하게 됨\r\n",
    "* 전투를 총 100회 실시하여 장수1과 장수2 중 누가 더 강한 장수인지 판별하시오력"
   ]
  },
  {
   "cell_type": "code",
   "execution_count": 3,
   "id": "a0112079-f9d8-4dd9-bc66-988a4652b416",
   "metadata": {},
   "outputs": [
    {
     "name": "stdout",
     "output_type": "stream",
     "text": [
      "장수2 승리 승리 횟수: 57,43\n"
     ]
    }
   ],
   "source": [
    "import random\n",
    "\n",
    "class Warrior:\n",
    "    def __init__(self, power, bravery, intellect, hp):\n",
    "        self.power = power\n",
    "        self.bravery = bravery\n",
    "        self.intellect = intellect\n",
    "        self.hp = hp\n",
    "\n",
    "    def __str__(self):\n",
    "        return f\"전투력 {self.power}, 용맹함 {self.bravery}, 지력 {self.intellect}, 체력 {self.hp}\"\n",
    "\n",
    "    def warrior_damage(self):\n",
    "        random_value = random.random()\n",
    "        damage = 0.4 * self.power * random_value + 0.3 * self.bravery * random_value + 0.3 * self.intellect * random_value\n",
    "        return damage\n",
    "\n",
    "def fight(warrior1, warrior2):\n",
    "    warrior1_wins = 0\n",
    "    warrior2_wins = 0\n",
    "\n",
    "    for _ in range(100):\n",
    "        warrior1.hp = 100  \n",
    "        warrior2.hp = 100  \n",
    "\n",
    "        while warrior1.hp > 0 and warrior2.hp > 0:\n",
    "\n",
    "            first_attacker = random.choice([1, 2])\n",
    "            \n",
    "            if first_attacker == 1:\n",
    "                warrior2.hp -= warrior1.warrior_damage()\n",
    "                if warrior2.hp <= 0:\n",
    "                    warrior1_wins += 1\n",
    "                    break\n",
    "                warrior1.hp -= warrior2.warrior_damage()\n",
    "                if warrior1.hp <= 0:\n",
    "                    warrior2_wins += 1\n",
    "            else:\n",
    "                warrior1.hp -= warrior2.warrior_damage()\n",
    "                if warrior1.hp <= 0:\n",
    "                    warrior2_wins += 1\n",
    "                    break\n",
    "                warrior2.hp -= warrior1.warrior_damage()\n",
    "                if warrior2.hp <= 0:\n",
    "                    warrior1_wins += 1\n",
    "\n",
    "    if warrior1_wins > warrior2_wins:\n",
    "        return f\"장수1 승리 승리 횟수: {warrior1_wins},{warrior2_wins}\"\n",
    "    elif warrior2_wins > warrior1_wins:\n",
    "        return f\"장수2 승리 승리 횟수: {warrior2_wins},{warrior1_wins}\"\n",
    "    else:\n",
    "        return \"무승부\"\n",
    "\n",
    "a = Warrior(93, 71, 29, 100)\n",
    "b = Warrior(84, 80, 75, 100)\n",
    "\n",
    "result = fight(a, b)\n",
    "print(result)\n"
   ]
  }
 ],
 "metadata": {
  "kernelspec": {
   "display_name": "pt20_py310",
   "language": "python",
   "name": "pt20_py310"
  },
  "language_info": {
   "codemirror_mode": {
    "name": "ipython",
    "version": 3
   },
   "file_extension": ".py",
   "mimetype": "text/x-python",
   "name": "python",
   "nbconvert_exporter": "python",
   "pygments_lexer": "ipython3",
   "version": "3.10.13"
  }
 },
 "nbformat": 4,
 "nbformat_minor": 5
}
