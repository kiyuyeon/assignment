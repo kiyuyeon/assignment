{
 "cells": [
  {
   "cell_type": "markdown",
   "id": "0f1270ff-2cd5-4f80-962b-9b808e3943ea",
   "metadata": {},
   "source": [
    "1. 높이 h에 공이 놓여 있다. 공이 바닥에 떨어졌다가 위로 튕기면서 n퍼센트만큼 높이가 낮아지는데 (10 퍼센트면 h*0.1) 최종적으로 공이 더 튕기지 않는 동안 공이 이동한 거리는 얼마인가.\r\n",
    "* 공이 멈추는 지점에 대한 계산은 sys 라이브러리를 불러 sys.float_info.epsilon 값을 활용\r\n",
    "* https://docs.python.org/3/library/sys.html#sys.float_info\r\n",
    "* h = 100, n = 0.15 사용"
   ]
  },
  {
   "cell_type": "code",
   "execution_count": 38,
   "id": "ddf96230-4886-4f79-b575-4d4326771274",
   "metadata": {},
   "outputs": [
    {
     "name": "stdout",
     "output_type": "stream",
     "text": [
      "결과:135.2941176470588\n"
     ]
    }
   ],
   "source": [
    "import sys\n",
    "\n",
    "h = 100\n",
    "n = 0.15\n",
    "\n",
    "epsilon = sys.float_info.epsilon\n",
    "total = h  \n",
    "bounce = h * n\n",
    "\n",
    "while bounce > epsilon:\n",
    "    total += 2 * bounce \n",
    "    bounce *= n \n",
    "    \n",
    "print(f'결과:{total}')"
   ]
  },
  {
   "cell_type": "markdown",
   "id": "e6253c7f-0aa9-43f9-bd64-d52f7cdfb8d2",
   "metadata": {},
   "source": [
    "2. 원주율 파이를 구하는 방법으로 라이프니츠 방법이 있다.\r\n",
    "* pi/4 = 1/1 - 1/3 + 1/5 - 1/7 + 1/9 ...\r\n",
    "* https://ko.wikipedia.org/wiki/%EB%9D%BC%EC%9D%B4%ED%94%84%EB%8B%88%EC%B8%A0%EC%9D%98_%EC%9B%90%EC%A3%BC%EC%9C%A8_%EA%B3%B5%EC%8B%9D\r\n",
    "* 100개 항,"
   ]
  },
  {
   "cell_type": "code",
   "execution_count": 29,
   "id": "125b1f7f-d330-4f8e-a2d3-c98053d9e533",
   "metadata": {},
   "outputs": [
    {
     "name": "stdout",
     "output_type": "stream",
     "text": [
      "라이프니츠: 3.1315929035585537 3.141592653589793\n"
     ]
    }
   ],
   "source": [
    "from math import pi\n",
    "\n",
    "pi_over_four = 0\n",
    "\n",
    "for i in range(100):\n",
    "    pi_over_four += ((-1) ** i) / (2 * i + 1)\n",
    "pi_over_four * 4\n",
    "\n",
    "approximated_pi =pi_over_four * 4\n",
    "print(f\"라이프니츠: {approximated_pi}\",pi)"
   ]
  },
  {
   "cell_type": "markdown",
   "id": "45d0158a-4f65-4901-9d5d-ae4906d16592",
   "metadata": {},
   "source": [
    "3. 주사위 두 개를 굴린다고 할 때, 나오는 두 주사위의 합의 분포를 구하시오.\r\n",
    "* dictionary를 활용해 합을 key로, 빈도수를 value로 하여 dictionary를 출력"
   ]
  },
  {
   "cell_type": "code",
   "execution_count": 27,
   "id": "9594a63a-bdcb-49e4-9e03-646976147d05",
   "metadata": {},
   "outputs": [
    {
     "name": "stdout",
     "output_type": "stream",
     "text": [
      "{2: 1, 3: 2, 4: 3, 5: 4, 6: 5, 7: 6, 8: 5, 9: 4, 10: 3, 11: 2, 12: 1}\n"
     ]
    }
   ],
   "source": [
    "dice_sum_distribution = {} \n",
    "\n",
    "\n",
    "for dice1 in range(1, 7):\n",
    "    for dice2 in range(1, 7): \n",
    "        dice_sum = dice1 + dice2 \n",
    "        if dice_sum in dice_sum_distribution:\n",
    "            dice_sum_distribution[dice_sum] += 1 \n",
    "        else:\n",
    "            dice_sum_distribution[dice_sum] = 1 \n",
    "\n",
    "print(dice_sum_distribution)"
   ]
  }
 ],
 "metadata": {
  "kernelspec": {
   "display_name": "pt20_py310",
   "language": "python",
   "name": "pt20_py310"
  },
  "language_info": {
   "codemirror_mode": {
    "name": "ipython",
    "version": 3
   },
   "file_extension": ".py",
   "mimetype": "text/x-python",
   "name": "python",
   "nbconvert_exporter": "python",
   "pygments_lexer": "ipython3",
   "version": "3.10.13"
  }
 },
 "nbformat": 4,
 "nbformat_minor": 5
}
