{
 "cells": [
  {
   "cell_type": "markdown",
   "id": "7d2d3968-5068-461f-a8de-6781ae8eb8be",
   "metadata": {},
   "source": [
    "숙제\n",
    "\n",
    "https://www.rcsb.org/structure/1N8Z 로 가서 Download Files로 가서 PDB Format으로 파일 저장하여 다음을 수행하시오\n",
    "\n",
    "* 파일을 업로드 후, 파일을 열어 Alpha Carbon의 X, Y, Z 좌표를 읽음\n",
    "* PDB 포맷은 다음의 링크에서 확인 가능: https://www.cgl.ucsf.edu/chimera/docs/UsersGuide/tutorials/pdbintro.html\n",
    "* Record type이 \"ATOM\"이면서 chain identifier 별로 읽어냄. 파일을 line 단위로 읽으면서 첫 글자 네 개가 \"ATOM\"인 경우를 찾아내어야 함\n",
    "* Alpha Carbon은 13-16번째의 글자가 \"CA\"인 경우임. 예, line[12:16].strip() == \"CA\"\n",
    "* 예: 첫 네 글자가 \"ATOM\"이면서 Chain identifier가 \"B\"이면서 Atom name이 \"CA\"인 경우의 첫 줄은 다음과 같음\n",
    "\n",
    "ATOM   1648  CA  GLU B   1      51.585  67.843 111.470  1.00 32.48           C  \n",
    "\n"
   ]
  },
  {
   "cell_type": "markdown",
   "id": "e532c45e-2257-426b-addd-77d07d445a6e",
   "metadata": {},
   "source": [
    "1. 첫 네 글자가 \"ATOM\"인 경우의 줄 정보를 Class로 나타내시오\n",
    "* 예) self.chain = line[21]; self.atom_name = line[12:16].strip() == \"CA\"; self.X = float(line[38:46])"
   ]
  },
  {
   "cell_type": "code",
   "execution_count": 1,
   "id": "564a7bf3-8e4e-44a5-b641-307d53019c93",
   "metadata": {},
   "outputs": [
    {
     "name": "stdout",
     "output_type": "stream",
     "text": [
      "Atom(chain='A', atom_name='N', X=34.539, Y=88.752, Z=88.298)\n",
      "Atom(chain='A', atom_name='CA', X=34.791, Y=87.461, Z=89.035)\n",
      "Atom(chain='A', atom_name='C', X=35.907, Y=86.779, Z=88.254)\n",
      "Atom(chain='A', atom_name='O', X=35.694, Y=86.356, Z=87.114)\n",
      "Atom(chain='A', atom_name='CB', X=33.536, Y=86.583, Z=89.061)\n"
     ]
    }
   ],
   "source": [
    "class Atom:\n",
    "    def __init__(self, line):\n",
    "        self.chain = line[21]  \n",
    "        self.atom_name = line[12:16].strip() \n",
    "        self.X = float(line[30:38])\n",
    "        self.Y = float(line[38:46])\n",
    "        self.Z = float(line[46:54])\n",
    "\n",
    "    def __repr__(self):\n",
    "        return f\"Atom(chain='{self.chain}', atom_name='{self.atom_name}', X={self.X}, Y={self.Y}, Z={self.Z})\"\n",
    "\n",
    "atoms = []\n",
    "with open('1n8z.pdb', 'r') as file:\n",
    "    for line in file:\n",
    "        if line.startswith(\"ATOM\"):\n",
    "            atom = Atom(line)\n",
    "            atoms.append(atom)\n",
    " \n",
    "for atom in atoms[:5]:\n",
    "    print(atom)"
   ]
  },
  {
   "cell_type": "markdown",
   "id": "d64d5940-6830-4797-bea1-20501adc5a5a",
   "metadata": {},
   "source": [
    "2. 각 Alpha Carbon의 X, Y, Z 좌표를 읽어내어 excel 파일에 저장하시오\n",
    "* 각 Sheet 이름은 chain identifier로 하시오. 즉, chain identifier가 \"A\"라면 \"A\"라는 시트를 만듬\n",
    "* 열은 총 3개 X, Y, Z를 만들고 좌표값을 기록\n",
    "\n"
   ]
  },
  {
   "cell_type": "code",
   "execution_count": 4,
   "id": "c1cace23-12b8-44bb-a98d-35ba54d2a4d3",
   "metadata": {},
   "outputs": [
    {
     "name": "stdout",
     "output_type": "stream",
     "text": [
      "  Chain Atom Name       X       Y       Z\n",
      "0     A        CA  34.791  87.461  89.035\n",
      "1     A        CA  38.253  86.374  88.028\n",
      "2     A        CA  38.371  83.435  85.699\n",
      "3     A        CA  41.454  81.275  85.277\n",
      "4     A        CA  41.751  79.468  81.964\n"
     ]
    }
   ],
   "source": [
    "import pandas as pd\n",
    "class Atom:\n",
    "    def __init__(self, line):\n",
    "        self.chain = line[21]  \n",
    "        self.atom_name = line[12:16].strip() ==\"CA\"\n",
    "        self.X = float(line[30:38])\n",
    "        self.Y = float(line[38:46])\n",
    "        self.Z = float(line[46:54])\n",
    "\n",
    "    def __repr__(self):\n",
    "        return f\"Atom(chain='{self.chain}', atom_name='{self.atom_name}', X={self.X}, Y={self.Y}, Z={self.Z})\"\n",
    "\n",
    "atoms = []\n",
    "with open('1n8z.pdb', 'r') as file:\n",
    "    for line in file:\n",
    "        if line.startswith(\"ATOM\"):\n",
    "            atom = Atom(line)\n",
    "            atoms.append(atom)\n",
    "\n",
    "true_data = [atom for atom in atoms if atom.atom_name]\n",
    "\n",
    "data = {\n",
    "    'Chain': [atom.chain for atom in true_data],\n",
    "    'Atom Name': ['CA' if atom.atom_name else 'Not CA' for atom in true_data],\n",
    "    'X': [atom.X for atom in true_data],\n",
    "    'Y': [atom.Y for atom in true_data],\n",
    "    'Z': [atom.Z for atom in true_data]\n",
    "}\n",
    "\n",
    "raw_data = pd.DataFrame(data)\n",
    "print(raw_data.head())\n",
    "raw_data.to_excel('atoms_data.xlsx', index=False)"
   ]
  },
  {
   "cell_type": "markdown",
   "id": "fd13327c-3371-4886-b0f2-26fb429cbfea",
   "metadata": {},
   "source": [
    "3. 저장된 엑셀 파일을 읽고 모든 chain identifier에 대해 좌표 간의 거리를 구하시오\n",
    "* 첫 줄과 두번째 줄, 두번째 줄과 세번쨰 줄 ... 이렇게 각 줄 간의 거리를 구하고 최소, 평균, 최대값을 출력하시오\n",
    "* 함수를 사용하여 해결"
   ]
  },
  {
   "cell_type": "code",
   "execution_count": 3,
   "id": "fb2d9c79-b118-48fc-be64-9becf5660c4d",
   "metadata": {},
   "outputs": [
    {
     "name": "stdout",
     "output_type": "stream",
     "text": [
      "[Min: 2.836255, Mean: 3.935238, Max: 82.004613]\n"
     ]
    }
   ],
   "source": [
    "import numpy as np\n",
    "\n",
    "data=pd.read_excel('atoms_data.xlsx')\n",
    "\n",
    "data2=data[['X','Y','Z']].values\n",
    "\n",
    "def distance_between_coordinates(data):\n",
    "    distances = np.sqrt(np.sum((data[:-1] - data[1:])**2, axis=1))\n",
    "    min_distance = np.min(distances)\n",
    "    avg_distance = np.average(distances)\n",
    "    max_distance = np.max(distances)\n",
    "    print(f\"[Min: {min_distance:.6f}, Mean: {avg_distance:.6f}, Max: {max_distance:.6f}]\")\n",
    "\n",
    "distance_between_coordinates(data2)"
   ]
  }
 ],
 "metadata": {
  "kernelspec": {
   "display_name": "pt20_py310",
   "language": "python",
   "name": "pt20_py310"
  },
  "language_info": {
   "codemirror_mode": {
    "name": "ipython",
    "version": 3
   },
   "file_extension": ".py",
   "mimetype": "text/x-python",
   "name": "python",
   "nbconvert_exporter": "python",
   "pygments_lexer": "ipython3",
   "version": "3.10.13"
  }
 },
 "nbformat": 4,
 "nbformat_minor": 5
}
