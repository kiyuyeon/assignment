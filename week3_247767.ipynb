{
 "cells": [
  {
   "cell_type": "code",
   "execution_count": 1,
   "metadata": {
    "id": "7IVJDCfVVZbX"
   },
   "outputs": [
    {
     "name": "stdout",
     "output_type": "stream",
     "text": [
      "A-B 거리: 4.962614165664\n",
      "A-C 거리: 2.6617976244635884\n",
      "B-C 거리: 3.7261837164113367\n"
     ]
    }
   ],
   "source": [
    "import math\n",
    "\n",
    "points = [\n",
    "    (1.2124, 0.85234),  # A\n",
    "    (1.373457, 5.81234),  # B\n",
    "    (3.234, 2.5839)  # C\n",
    "]\n",
    "\n",
    "def calculate_distance(point1, point2):\n",
    "    return math.sqrt((point1[0] - point2[0])**2 + (point1[1] - point2[1])**2)\n",
    "\n",
    "# A-B, A-C, B-C 사이의 거리 계산\n",
    "distance_AB = calculate_distance(points[0], points[1])\n",
    "distance_AC = calculate_distance(points[0], points[2])\n",
    "distance_BC = calculate_distance(points[1], points[2])\n",
    "\n",
    "print(f\"A-B 거리: {distance_AB}\")\n",
    "print(f\"A-C 거리: {distance_AC}\")\n",
    "print(f\"B-C 거리: {distance_BC}\")\n"
   ]
  }
 ],
 "metadata": {
  "colab": {
   "provenance": []
  },
  "kernelspec": {
   "display_name": "Python 3 (ipykernel)",
   "language": "python",
   "name": "python3"
  },
  "language_info": {
   "codemirror_mode": {
    "name": "ipython",
    "version": 3
   },
   "file_extension": ".py",
   "mimetype": "text/x-python",
   "name": "python",
   "nbconvert_exporter": "python",
   "pygments_lexer": "ipython3",
   "version": "3.10.13"
  }
 },
 "nbformat": 4,
 "nbformat_minor": 4
}
