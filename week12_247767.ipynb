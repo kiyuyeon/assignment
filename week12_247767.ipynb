{
 "cells": [
  {
   "cell_type": "markdown",
   "metadata": {},
   "source": [
    "9주차 적포도주 데이터를 활용할 것\n",
    "\n",
    "\r\n",
    "7등급 이상은 1로, 그 이하는 0으로 하여 이진 분류를 할\n",
    "\n",
    "것\r\n",
    "노트북의 여러 모델을 실행해보고 가장 좋은 classifier가 무엇인지 찾아보\r\n",
    ".\n",
    "\n"
   ]
  },
  {
   "cell_type": "code",
   "execution_count": 2,
   "metadata": {},
   "outputs": [
    {
     "name": "stdout",
     "output_type": "stream",
     "text": [
      "LR Accuracy: 0.8656\n",
      "              precision    recall  f1-score   support\n",
      "\n",
      "           0       0.89      0.97      0.92       273\n",
      "           1       0.59      0.28      0.38        47\n",
      "\n",
      "    accuracy                           0.87       320\n",
      "   macro avg       0.74      0.62      0.65       320\n",
      "weighted avg       0.84      0.87      0.84       320\n",
      "\n",
      "RF Accuracy: 0.9000\n",
      "              precision    recall  f1-score   support\n",
      "\n",
      "           0       0.92      0.97      0.94       273\n",
      "           1       0.73      0.51      0.60        47\n",
      "\n",
      "    accuracy                           0.90       320\n",
      "   macro avg       0.82      0.74      0.77       320\n",
      "weighted avg       0.89      0.90      0.89       320\n",
      "\n",
      "SVM Accuracy: 0.8750\n",
      "              precision    recall  f1-score   support\n",
      "\n",
      "           0       0.88      0.98      0.93       273\n",
      "           1       0.71      0.26      0.38        47\n",
      "\n",
      "    accuracy                           0.88       320\n",
      "   macro avg       0.80      0.62      0.65       320\n",
      "weighted avg       0.86      0.88      0.85       320\n",
      "\n",
      "Best model: RandomForestClassifier(random_state=42) with accuracy: 0.9000\n"
     ]
    }
   ],
   "source": [
    "import pandas as pd\n",
    "from sklearn.model_selection import train_test_split\n",
    "from sklearn.preprocessing import StandardScaler\n",
    "from sklearn.linear_model import LogisticRegression\n",
    "from sklearn.ensemble import RandomForestClassifier\n",
    "from sklearn.svm import SVC\n",
    "from sklearn.metrics import accuracy_score, classification_report\n",
    "\n",
    "df = pd.read_csv('week9_winequality-red.csv')\n",
    "\n",
    "df['quality'] = df['quality'].apply(lambda x: 1 if x >= 7 else 0)\n",
    "\n",
    "X = df.drop('quality', axis=1)\n",
    "y = df['quality']\n",
    "\n",
    "X_train, X_test, y_train, y_test = train_test_split(X, y, test_size=0.2, random_state=42)\n",
    "\n",
    "scaler = StandardScaler()\n",
    "X_train = scaler.fit_transform(X_train)\n",
    "X_test = scaler.transform(X_test)\n",
    "\n",
    "models = {\n",
    "    \"LR\": LogisticRegression(random_state=42),\n",
    "    \"RF\": RandomForestClassifier(random_state=42),\n",
    "    \"SVM\": SVC(random_state=42),\n",
    "}\n",
    "\n",
    "best_model = None\n",
    "best_accuracy = 0\n",
    "\n",
    "for name, model in models.items():\n",
    "    model.fit(X_train, y_train)\n",
    "    y_pred = model.predict(X_test)\n",
    "    accuracy = accuracy_score(y_test, y_pred)\n",
    "    print(f\"{name} Accuracy: {accuracy:.4f}\")\n",
    "    if accuracy > best_accuracy:\n",
    "        best_accuracy = accuracy\n",
    "        best_model = model\n",
    "\n",
    "    print(classification_report(y_test, y_pred))\n",
    "\n",
    "print(f\"Best model: {best_model} with accuracy: {best_accuracy:.4f}\")"
   ]
  }
 ],
 "metadata": {
  "colab": {
   "provenance": []
  },
  "kernelspec": {
   "display_name": "Python 3 (ipykernel)",
   "language": "python",
   "name": "python3"
  },
  "language_info": {
   "codemirror_mode": {
    "name": "ipython",
    "version": 3
   },
   "file_extension": ".py",
   "mimetype": "text/x-python",
   "name": "python",
   "nbconvert_exporter": "python",
   "pygments_lexer": "ipython3",
   "version": "3.10.13"
  }
 },
 "nbformat": 4,
 "nbformat_minor": 4
}
