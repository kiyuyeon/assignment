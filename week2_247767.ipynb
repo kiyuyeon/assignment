{
 "cells": [
  {
   "cell_type": "code",
   "execution_count": 4,
   "id": "a41b900e-31e1-48aa-b8c7-2c77c041be34",
   "metadata": {},
   "outputs": [
    {
     "name": "stdout",
     "output_type": "stream",
     "text": [
      "111100011111010111 1001100001101111110111001 1 1111010100000110101 01000000100100000000000000000000\n"
     ]
    }
   ],
   "source": [
    "import struct\n",
    "\n",
    "student_id = '247767'\n",
    "birth_date = '19980217'\n",
    "gender = 'M'\n",
    "postal_code = '501813'\n",
    "\n",
    "desired_grade = 'A+'\n",
    "grade_to_number = {'A+': 4.5,'A': 4, 'B': 3, 'C': 2, 'D': 1, 'F': 0}\n",
    "desired_grade_number = grade_to_number[desired_grade]\n",
    "\n",
    "desired_grade_binary = struct.pack('>f', desired_grade_number)\n",
    "desired_grade_binary_str = ''.join(f'{byte:08b}' for byte in desired_grade_binary)\n",
    "gender_binary = '1' if gender == 'M' else '0'\n",
    "\n",
    "student_id_binary = format(int(student_id), 'b')\n",
    "birth_date_binary = format(int(birth_date), 'b')\n",
    "postal_code_binary = format(int(postal_code), 'b')\n",
    "\n",
    "\n",
    "print(student_id_binary,birth_date_binary,gender_binary,postal_code_binary,desired_grade_binary_str)"
   ]
  },
  {
   "cell_type": "code",
   "execution_count": 5,
   "id": "252a7552-7f94-406b-ab71-d01f2dd9b793",
   "metadata": {},
   "outputs": [
    {
     "name": "stdout",
     "output_type": "stream",
     "text": [
      "Student ID: 247767, Birth Date: 19980217, Gender: M, Postal Code: 501813, Desired Grade Number: 4.5\n"
     ]
    }
   ],
   "source": [
    "import struct\n",
    "\n",
    "student_id_binary = '111100011111010111'\n",
    "birth_date_binary = '1001100001101111110111001'\n",
    "gender_binary = '1'\n",
    "postal_code_binary = '1111010100000110101'\n",
    "desired_grade_binary_str = '01000000100100000000000000000000'\n",
    "\n",
    "# 원래 데이터로 복구\n",
    "desired_grade_number = struct.unpack('>f', bytes(int(desired_grade_binary_str[i:i+8], 2) for i in range(0, len(desired_grade_binary_str), 8)))[0]\n",
    "gender = 'M' if gender_binary == '1' else 'F'\n",
    "student_id = str(int(student_id_binary, 2))\n",
    "birth_date = str(int(birth_date_binary, 2))\n",
    "postal_code = str(int(postal_code_binary, 2))\n",
    "\n",
    "print(f\"Student ID: {student_id}, Birth Date: {birth_date}, Gender: {gender}, Postal Code: {postal_code}, Desired Grade Number: {desired_grade_number}\")\n"
   ]
  }
 ],
 "metadata": {
  "kernelspec": {
   "display_name": "pt20_py310",
   "language": "python",
   "name": "pt20_py310"
  },
  "language_info": {
   "codemirror_mode": {
    "name": "ipython",
    "version": 3
   },
   "file_extension": ".py",
   "mimetype": "text/x-python",
   "name": "python",
   "nbconvert_exporter": "python",
   "pygments_lexer": "ipython3",
   "version": "3.10.13"
  }
 },
 "nbformat": 4,
 "nbformat_minor": 5
}
